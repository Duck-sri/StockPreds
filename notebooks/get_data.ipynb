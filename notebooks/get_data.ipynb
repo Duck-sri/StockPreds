{
 "cells": [
  {
   "cell_type": "markdown",
   "metadata": {},
   "source": [
    "# import sqlite3\n",
    "from sqlite3 import Error\n",
    "import os\n",
    "\n",
    "def createConnection(path):\n",
    "    connection = None \n",
    "    try: \n",
    "        connection = sqlite3.connect(path)\n",
    "        print(sqlite3.version)\n",
    "        return connection\n",
    "    except Error as e:\n",
    "        print(e)\n",
    "\n",
    "        "
   ]
  },
  {
   "cell_type": "code",
   "execution_count": null,
   "metadata": {},
   "outputs": [],
   "source": [
    "here = os.path.abspath('.')\n",
    "file_db = os.path.abspath('./data/stocks.db')\n",
    "conn = createConnection(file_db)"
   ]
  },
  {
   "cell_type": "code",
   "execution_count": null,
   "metadata": {},
   "outputs": [],
   "source": [
    "cur = conn.cursor()"
   ]
  },
  {
   "cell_type": "code",
   "execution_count": null,
   "metadata": {},
   "outputs": [],
   "source": [
    "cur.execute('''select name from sqlite_master where type = 'table';''')"
   ]
  },
  {
   "cell_type": "code",
   "execution_count": null,
   "metadata": {},
   "outputs": [],
   "source": [
    "tables = cur.fetchall()"
   ]
  },
  {
   "cell_type": "code",
   "execution_count": null,
   "metadata": {},
   "outputs": [],
   "source": [
    "tables"
   ]
  },
  {
   "cell_type": "code",
   "execution_count": null,
   "metadata": {},
   "outputs": [],
   "source": [
    "cur.execute(''' select * from T_mst_STOCK ''')\n",
    "stock_details = cur.fetchall()"
   ]
  },
  {
   "cell_type": "code",
   "execution_count": null,
   "metadata": {},
   "outputs": [],
   "source": [
    "stock_details"
   ]
  },
  {
   "cell_type": "code",
   "execution_count": null,
   "metadata": {},
   "outputs": [],
   "source": [
    "with open('./data/bse.txt','w') as bse:\n",
    "    for data in stock_details:\n",
    "        bse.writelines(str(data[0]+','+str(data[1]+'\\n')))\n",
    "    bse.close()"
   ]
  },
  {
   "cell_type": "code",
   "execution_count": null,
   "metadata": {},
   "outputs": [],
   "source": []
  },
  {
   "cell_type": "code",
   "execution_count": 1,
   "metadata": {},
   "outputs": [],
   "source": [
    "import requests\n",
    "import json\n",
    "import pandas as pd\n",
    "import numpy as np\n",
    "from datetime import datetime,date\n",
    "import matplotlib.pyplot as plt\n",
    "from matplotlib import style\n",
    "import time"
   ]
  },
  {
   "cell_type": "code",
   "execution_count": 3,
   "metadata": {},
   "outputs": [],
   "source": [
    "url = \"https://apidojo-yahoo-finance-v1.p.rapidapi.com/stock/v3/get-historical-data\"\n",
    "\n",
    "querystring = {\"symbol\":\"TITAN.NS\",\"region\":\"IN\"}\n",
    "\n",
    "headers = {\n",
    "    'x-rapidapi-key': \"38aa509021mshbf050eca199e6aep10f687jsnc62ddec342a5\",\n",
    "    'x-rapidapi-host': \"apidojo-yahoo-finance-v1.p.rapidapi.com\"\n",
    "    }\n",
    "\n",
    "response = requests.request(\"GET\", url, headers=headers, params=querystring)\n",
    "\n",
    "# print(response.text)"
   ]
  },
  {
   "cell_type": "code",
   "execution_count": 6,
   "metadata": {},
   "outputs": [],
   "source": [
    "got = response.json()"
   ]
  },
  {
   "cell_type": "code",
   "execution_count": 7,
   "metadata": {},
   "outputs": [
    {
     "data": {
      "text/plain": [
       "dict_keys(['prices', 'isPending', 'firstTradeDate', 'id', 'timeZone', 'eventsData'])"
      ]
     },
     "execution_count": 7,
     "metadata": {},
     "output_type": "execute_result"
    }
   ],
   "source": [
    "got.keys()"
   ]
  },
  {
   "cell_type": "code",
   "execution_count": 8,
   "metadata": {},
   "outputs": [
    {
     "data": {
      "text/plain": [
       "dict_keys(['date', 'open', 'high', 'low', 'close', 'volume', 'adjclose'])"
      ]
     },
     "execution_count": 8,
     "metadata": {},
     "output_type": "execute_result"
    }
   ],
   "source": [
    "got['prices'][0].keys()"
   ]
  },
  {
   "cell_type": "code",
   "execution_count": 16,
   "metadata": {},
   "outputs": [
    {
     "data": {
      "text/plain": [
       "(820467900, False)"
      ]
     },
     "execution_count": 16,
     "metadata": {},
     "output_type": "execute_result"
    }
   ],
   "source": [
    "got['firstTradeDate']"
   ]
  },
  {
   "cell_type": "code",
   "execution_count": null,
   "metadata": {},
   "outputs": [],
   "source": [
    "#with open('./data/icici_bank.json','w') as writeFile:\n",
    "#    json.dump(got,writeFile)\n",
    "\n",
    "with open('./data/icici_bank.json','rb') as readFile:\n",
    "    got = json.load(readFile)\n",
    "    readFile.close()"
   ]
  },
  {
   "cell_type": "code",
   "execution_count": null,
   "metadata": {},
   "outputs": [],
   "source": [
    "BB"
   ]
  },
  {
   "cell_type": "code",
   "execution_count": null,
   "metadata": {},
   "outputs": [],
   "source": []
  },
  {
   "cell_type": "code",
   "execution_count": 17,
   "metadata": {},
   "outputs": [],
   "source": [
    "def getTickers(get='\\n',dataFile='./data/final_ticker.txt'):\n",
    "    with open(dataFile,'r') as tickFile:\n",
    "        lines = tickFile.readlines()\n",
    "    if (get == ' '):\n",
    "        tickers = ' '.join([ i.split(',')[-1][:-1] for i in lines])\n",
    "    else:\n",
    "        tickers = [ i.split(',')[-1][:-1] for i in lines]\n",
    "    return tickers"
   ]
  },
  {
   "cell_type": "code",
   "execution_count": 1,
   "metadata": {},
   "outputs": [],
   "source": [
    "import yfinance as yf\n",
    "import pickle\n",
    "import pandas as pd"
   ]
  },
  {
   "cell_type": "code",
   "execution_count": 15,
   "metadata": {},
   "outputs": [],
   "source": [
    "def getHist(tickers,saveFile='./got.pickle'):\n",
    "    import yfinance as yf\n",
    "    params = {\n",
    "        \"tickers\" : tickers,\n",
    "        \"period\" : \"max\",\n",
    "        \"interval\" : \"1d\",\n",
    "        \"group_by\" : \"ticker\"\n",
    "    }\n",
    "    got = yf.download(**params)\n",
    "    with open(saveFile,'wb') as pic:\n",
    "        pickle.dump(got,pic,-1)\n",
    "    return got"
   ]
  },
  {
   "cell_type": "code",
   "execution_count": 62,
   "metadata": {},
   "outputs": [],
   "source": [
    "index = [ i.split(',')[-1][:-1] for i in lines]"
   ]
  },
  {
   "cell_type": "code",
   "execution_count": 66,
   "metadata": {},
   "outputs": [
    {
     "data": {
      "text/html": [
       "<div>\n",
       "<style scoped>\n",
       "    .dataframe tbody tr th:only-of-type {\n",
       "        vertical-align: middle;\n",
       "    }\n",
       "\n",
       "    .dataframe tbody tr th {\n",
       "        vertical-align: top;\n",
       "    }\n",
       "\n",
       "    .dataframe thead th {\n",
       "        text-align: right;\n",
       "    }\n",
       "</style>\n",
       "<table border=\"1\" class=\"dataframe\">\n",
       "  <thead>\n",
       "    <tr style=\"text-align: right;\">\n",
       "      <th></th>\n",
       "      <th>Open</th>\n",
       "      <th>High</th>\n",
       "      <th>Low</th>\n",
       "      <th>Close</th>\n",
       "      <th>Adj Close</th>\n",
       "      <th>Volume</th>\n",
       "    </tr>\n",
       "    <tr>\n",
       "      <th>Date</th>\n",
       "      <th></th>\n",
       "      <th></th>\n",
       "      <th></th>\n",
       "      <th></th>\n",
       "      <th></th>\n",
       "      <th></th>\n",
       "    </tr>\n",
       "  </thead>\n",
       "  <tbody>\n",
       "    <tr>\n",
       "      <th>1996-01-01</th>\n",
       "      <td>NaN</td>\n",
       "      <td>NaN</td>\n",
       "      <td>NaN</td>\n",
       "      <td>NaN</td>\n",
       "      <td>NaN</td>\n",
       "      <td>NaN</td>\n",
       "    </tr>\n",
       "    <tr>\n",
       "      <th>1996-01-02</th>\n",
       "      <td>NaN</td>\n",
       "      <td>NaN</td>\n",
       "      <td>NaN</td>\n",
       "      <td>NaN</td>\n",
       "      <td>NaN</td>\n",
       "      <td>NaN</td>\n",
       "    </tr>\n",
       "    <tr>\n",
       "      <th>1996-01-03</th>\n",
       "      <td>NaN</td>\n",
       "      <td>NaN</td>\n",
       "      <td>NaN</td>\n",
       "      <td>NaN</td>\n",
       "      <td>NaN</td>\n",
       "      <td>NaN</td>\n",
       "    </tr>\n",
       "    <tr>\n",
       "      <th>1996-01-04</th>\n",
       "      <td>NaN</td>\n",
       "      <td>NaN</td>\n",
       "      <td>NaN</td>\n",
       "      <td>NaN</td>\n",
       "      <td>NaN</td>\n",
       "      <td>NaN</td>\n",
       "    </tr>\n",
       "    <tr>\n",
       "      <th>1996-01-05</th>\n",
       "      <td>NaN</td>\n",
       "      <td>NaN</td>\n",
       "      <td>NaN</td>\n",
       "      <td>NaN</td>\n",
       "      <td>NaN</td>\n",
       "      <td>NaN</td>\n",
       "    </tr>\n",
       "    <tr>\n",
       "      <th>...</th>\n",
       "      <td>...</td>\n",
       "      <td>...</td>\n",
       "      <td>...</td>\n",
       "      <td>...</td>\n",
       "      <td>...</td>\n",
       "      <td>...</td>\n",
       "    </tr>\n",
       "    <tr>\n",
       "      <th>2021-02-25</th>\n",
       "      <td>850.750000</td>\n",
       "      <td>856.700012</td>\n",
       "      <td>820.049988</td>\n",
       "      <td>826.500000</td>\n",
       "      <td>826.500000</td>\n",
       "      <td>10911.0</td>\n",
       "    </tr>\n",
       "    <tr>\n",
       "      <th>2021-02-26</th>\n",
       "      <td>825.000000</td>\n",
       "      <td>835.799988</td>\n",
       "      <td>796.299988</td>\n",
       "      <td>807.549988</td>\n",
       "      <td>807.549988</td>\n",
       "      <td>11487.0</td>\n",
       "    </tr>\n",
       "    <tr>\n",
       "      <th>2021-03-01</th>\n",
       "      <td>807.900024</td>\n",
       "      <td>820.650024</td>\n",
       "      <td>807.900024</td>\n",
       "      <td>814.450012</td>\n",
       "      <td>814.450012</td>\n",
       "      <td>3685.0</td>\n",
       "    </tr>\n",
       "    <tr>\n",
       "      <th>2021-03-02</th>\n",
       "      <td>805.549988</td>\n",
       "      <td>837.000000</td>\n",
       "      <td>805.549988</td>\n",
       "      <td>822.450012</td>\n",
       "      <td>822.450012</td>\n",
       "      <td>7216.0</td>\n",
       "    </tr>\n",
       "    <tr>\n",
       "      <th>2021-03-03</th>\n",
       "      <td>826.599976</td>\n",
       "      <td>842.900024</td>\n",
       "      <td>814.450012</td>\n",
       "      <td>816.299988</td>\n",
       "      <td>816.299988</td>\n",
       "      <td>6266.0</td>\n",
       "    </tr>\n",
       "  </tbody>\n",
       "</table>\n",
       "<p>6335 rows × 6 columns</p>\n",
       "</div>"
      ],
      "text/plain": [
       "                  Open        High         Low       Close   Adj Close  \\\n",
       "Date                                                                     \n",
       "1996-01-01         NaN         NaN         NaN         NaN         NaN   \n",
       "1996-01-02         NaN         NaN         NaN         NaN         NaN   \n",
       "1996-01-03         NaN         NaN         NaN         NaN         NaN   \n",
       "1996-01-04         NaN         NaN         NaN         NaN         NaN   \n",
       "1996-01-05         NaN         NaN         NaN         NaN         NaN   \n",
       "...                ...         ...         ...         ...         ...   \n",
       "2021-02-25  850.750000  856.700012  820.049988  826.500000  826.500000   \n",
       "2021-02-26  825.000000  835.799988  796.299988  807.549988  807.549988   \n",
       "2021-03-01  807.900024  820.650024  807.900024  814.450012  814.450012   \n",
       "2021-03-02  805.549988  837.000000  805.549988  822.450012  822.450012   \n",
       "2021-03-03  826.599976  842.900024  814.450012  816.299988  816.299988   \n",
       "\n",
       "             Volume  \n",
       "Date                 \n",
       "1996-01-01      NaN  \n",
       "1996-01-02      NaN  \n",
       "1996-01-03      NaN  \n",
       "1996-01-04      NaN  \n",
       "1996-01-05      NaN  \n",
       "...             ...  \n",
       "2021-02-25  10911.0  \n",
       "2021-02-26  11487.0  \n",
       "2021-03-01   3685.0  \n",
       "2021-03-02   7216.0  \n",
       "2021-03-03   6266.0  \n",
       "\n",
       "[6335 rows x 6 columns]"
      ]
     },
     "execution_count": 66,
     "metadata": {},
     "output_type": "execute_result"
    }
   ],
   "source": [
    "got[index[4]]"
   ]
  },
  {
   "cell_type": "code",
   "execution_count": null,
   "metadata": {},
   "outputs": [],
   "source": []
  },
  {
   "cell_type": "code",
   "execution_count": 5,
   "metadata": {},
   "outputs": [],
   "source": [
    "indexes = [ i.split(',')[-1][:-1] for i in lines]"
   ]
  },
  {
   "cell_type": "code",
   "execution_count": 12,
   "metadata": {},
   "outputs": [
    {
     "data": {
      "text/html": [
       "<div>\n",
       "<style scoped>\n",
       "    .dataframe tbody tr th:only-of-type {\n",
       "        vertical-align: middle;\n",
       "    }\n",
       "\n",
       "    .dataframe tbody tr th {\n",
       "        vertical-align: top;\n",
       "    }\n",
       "\n",
       "    .dataframe thead th {\n",
       "        text-align: right;\n",
       "    }\n",
       "</style>\n",
       "<table border=\"1\" class=\"dataframe\">\n",
       "  <thead>\n",
       "    <tr style=\"text-align: right;\">\n",
       "      <th></th>\n",
       "      <th>Open</th>\n",
       "      <th>High</th>\n",
       "      <th>Low</th>\n",
       "      <th>Close</th>\n",
       "      <th>Adj Close</th>\n",
       "      <th>Volume</th>\n",
       "    </tr>\n",
       "    <tr>\n",
       "      <th>Date</th>\n",
       "      <th></th>\n",
       "      <th></th>\n",
       "      <th></th>\n",
       "      <th></th>\n",
       "      <th></th>\n",
       "      <th></th>\n",
       "    </tr>\n",
       "  </thead>\n",
       "  <tbody>\n",
       "    <tr>\n",
       "      <th>2002-07-01</th>\n",
       "      <td>62.349998</td>\n",
       "      <td>62.799999</td>\n",
       "      <td>59.049999</td>\n",
       "      <td>61.500000</td>\n",
       "      <td>57.812386</td>\n",
       "      <td>8154.0</td>\n",
       "    </tr>\n",
       "    <tr>\n",
       "      <th>2002-07-02</th>\n",
       "      <td>61.000000</td>\n",
       "      <td>62.500000</td>\n",
       "      <td>61.000000</td>\n",
       "      <td>61.500000</td>\n",
       "      <td>57.812386</td>\n",
       "      <td>5718.0</td>\n",
       "    </tr>\n",
       "    <tr>\n",
       "      <th>2002-07-03</th>\n",
       "      <td>63.000000</td>\n",
       "      <td>63.500000</td>\n",
       "      <td>60.599998</td>\n",
       "      <td>60.950001</td>\n",
       "      <td>57.295364</td>\n",
       "      <td>6038.0</td>\n",
       "    </tr>\n",
       "    <tr>\n",
       "      <th>2002-07-04</th>\n",
       "      <td>60.150002</td>\n",
       "      <td>61.299999</td>\n",
       "      <td>60.000000</td>\n",
       "      <td>60.200001</td>\n",
       "      <td>56.590340</td>\n",
       "      <td>7780.0</td>\n",
       "    </tr>\n",
       "    <tr>\n",
       "      <th>2002-07-05</th>\n",
       "      <td>61.700001</td>\n",
       "      <td>62.000000</td>\n",
       "      <td>60.299999</td>\n",
       "      <td>61.549999</td>\n",
       "      <td>57.859383</td>\n",
       "      <td>11029.0</td>\n",
       "    </tr>\n",
       "    <tr>\n",
       "      <th>...</th>\n",
       "      <td>...</td>\n",
       "      <td>...</td>\n",
       "      <td>...</td>\n",
       "      <td>...</td>\n",
       "      <td>...</td>\n",
       "      <td>...</td>\n",
       "    </tr>\n",
       "    <tr>\n",
       "      <th>2021-02-25</th>\n",
       "      <td>850.750000</td>\n",
       "      <td>856.700012</td>\n",
       "      <td>820.049988</td>\n",
       "      <td>826.500000</td>\n",
       "      <td>826.500000</td>\n",
       "      <td>10911.0</td>\n",
       "    </tr>\n",
       "    <tr>\n",
       "      <th>2021-02-26</th>\n",
       "      <td>825.000000</td>\n",
       "      <td>835.799988</td>\n",
       "      <td>796.299988</td>\n",
       "      <td>807.549988</td>\n",
       "      <td>807.549988</td>\n",
       "      <td>11487.0</td>\n",
       "    </tr>\n",
       "    <tr>\n",
       "      <th>2021-03-01</th>\n",
       "      <td>807.900024</td>\n",
       "      <td>820.650024</td>\n",
       "      <td>807.900024</td>\n",
       "      <td>814.450012</td>\n",
       "      <td>814.450012</td>\n",
       "      <td>3685.0</td>\n",
       "    </tr>\n",
       "    <tr>\n",
       "      <th>2021-03-02</th>\n",
       "      <td>805.549988</td>\n",
       "      <td>837.000000</td>\n",
       "      <td>805.549988</td>\n",
       "      <td>822.450012</td>\n",
       "      <td>822.450012</td>\n",
       "      <td>7216.0</td>\n",
       "    </tr>\n",
       "    <tr>\n",
       "      <th>2021-03-03</th>\n",
       "      <td>826.599976</td>\n",
       "      <td>842.900024</td>\n",
       "      <td>814.450012</td>\n",
       "      <td>816.299988</td>\n",
       "      <td>816.299988</td>\n",
       "      <td>6266.0</td>\n",
       "    </tr>\n",
       "  </tbody>\n",
       "</table>\n",
       "<p>4640 rows × 6 columns</p>\n",
       "</div>"
      ],
      "text/plain": [
       "                  Open        High         Low       Close   Adj Close  \\\n",
       "Date                                                                     \n",
       "2002-07-01   62.349998   62.799999   59.049999   61.500000   57.812386   \n",
       "2002-07-02   61.000000   62.500000   61.000000   61.500000   57.812386   \n",
       "2002-07-03   63.000000   63.500000   60.599998   60.950001   57.295364   \n",
       "2002-07-04   60.150002   61.299999   60.000000   60.200001   56.590340   \n",
       "2002-07-05   61.700001   62.000000   60.299999   61.549999   57.859383   \n",
       "...                ...         ...         ...         ...         ...   \n",
       "2021-02-25  850.750000  856.700012  820.049988  826.500000  826.500000   \n",
       "2021-02-26  825.000000  835.799988  796.299988  807.549988  807.549988   \n",
       "2021-03-01  807.900024  820.650024  807.900024  814.450012  814.450012   \n",
       "2021-03-02  805.549988  837.000000  805.549988  822.450012  822.450012   \n",
       "2021-03-03  826.599976  842.900024  814.450012  816.299988  816.299988   \n",
       "\n",
       "             Volume  \n",
       "Date                 \n",
       "2002-07-01   8154.0  \n",
       "2002-07-02   5718.0  \n",
       "2002-07-03   6038.0  \n",
       "2002-07-04   7780.0  \n",
       "2002-07-05  11029.0  \n",
       "...             ...  \n",
       "2021-02-25  10911.0  \n",
       "2021-02-26  11487.0  \n",
       "2021-03-01   3685.0  \n",
       "2021-03-02   7216.0  \n",
       "2021-03-03   6266.0  \n",
       "\n",
       "[4640 rows x 6 columns]"
      ]
     },
     "execution_count": 12,
     "metadata": {},
     "output_type": "execute_result"
    }
   ],
   "source": [
    "got[indexes[4]].loc[got[indexes[4]].first_valid_index():]"
   ]
  },
  {
   "cell_type": "code",
   "execution_count": 34,
   "metadata": {},
   "outputs": [],
   "source": [
    "icici = got['ICICIBANK.NS'][got['ICICIBANK.NS'].first_valid_index():]"
   ]
  },
  {
   "cell_type": "markdown",
   "metadata": {},
   "source": [
    "$\\pi^2 \\approx g$"
   ]
  },
  {
   "cell_type": "markdown",
   "metadata": {},
   "source": [
    "### Tensorflow in action \n",
    "    1. Importing\n",
    "    2. converting df to tensor\n",
    "    3. compiling the models\n",
    "    4. running tests\n",
    "    5. generate results\n",
    "    6. Create funcs to automate everything / Class\n",
    "    7. Create funcs to have a realtime testing and stuff"
   ]
  },
  {
   "cell_type": "code",
   "execution_count": 40,
   "metadata": {},
   "outputs": [],
   "source": [
    "import tensorflow as tf\n",
    "import pandas as pd\n",
    "import numpy as np"
   ]
  },
  {
   "cell_type": "code",
   "execution_count": 44,
   "metadata": {},
   "outputs": [],
   "source": [
    "date_time = pd.to_datetime(icici.index,format='%d.%m.%Y %H:%M:%S')"
   ]
  },
  {
   "cell_type": "code",
   "execution_count": 45,
   "metadata": {},
   "outputs": [
    {
     "data": {
      "text/plain": [
       "DatetimeIndex(['2002-07-01', '2002-07-02', '2002-07-03', '2002-07-04',\n",
       "               '2002-07-05', '2002-07-08', '2002-07-09', '2002-07-10',\n",
       "               '2002-07-11', '2002-07-12',\n",
       "               ...\n",
       "               '2021-02-18', '2021-02-19', '2021-02-22', '2021-02-23',\n",
       "               '2021-02-24', '2021-02-25', '2021-02-26', '2021-03-01',\n",
       "               '2021-03-02', '2021-03-03'],\n",
       "              dtype='datetime64[ns]', name='Date', length=4640, freq=None)"
      ]
     },
     "execution_count": 45,
     "metadata": {},
     "output_type": "execute_result"
    }
   ],
   "source": [
    "date_time"
   ]
  },
  {
   "cell_type": "code",
   "execution_count": 60,
   "metadata": {},
   "outputs": [],
   "source": [
    "from datetime import datetime"
   ]
  },
  {
   "cell_type": "code",
   "execution_count": 71,
   "metadata": {},
   "outputs": [
    {
     "data": {
      "text/plain": [
       "Timedelta('30 days 00:00:00')"
      ]
     },
     "execution_count": 71,
     "metadata": {},
     "output_type": "execute_result"
    }
   ],
   "source": [
    "pd.to_timedelta(30,unit='d')"
   ]
  },
  {
   "cell_type": "code",
   "execution_count": 72,
   "metadata": {},
   "outputs": [
    {
     "name": "stdout",
     "output_type": "stream",
     "text": [
      "Help on function timedelta_range in module pandas.core.indexes.timedeltas:\n",
      "\n",
      "timedelta_range(start=None, end=None, periods=None, freq=None, name=None, closed=None) -> pandas.core.indexes.timedeltas.TimedeltaIndex\n",
      "    Return a fixed frequency TimedeltaIndex, with day as the default\n",
      "    frequency.\n",
      "    \n",
      "    Parameters\n",
      "    ----------\n",
      "    start : str or timedelta-like, default None\n",
      "        Left bound for generating timedeltas.\n",
      "    end : str or timedelta-like, default None\n",
      "        Right bound for generating timedeltas.\n",
      "    periods : int, default None\n",
      "        Number of periods to generate.\n",
      "    freq : str or DateOffset, default 'D'\n",
      "        Frequency strings can have multiples, e.g. '5H'.\n",
      "    name : str, default None\n",
      "        Name of the resulting TimedeltaIndex.\n",
      "    closed : str, default None\n",
      "        Make the interval closed with respect to the given frequency to\n",
      "        the 'left', 'right', or both sides (None).\n",
      "    \n",
      "    Returns\n",
      "    -------\n",
      "    rng : TimedeltaIndex\n",
      "    \n",
      "    Notes\n",
      "    -----\n",
      "    Of the four parameters ``start``, ``end``, ``periods``, and ``freq``,\n",
      "    exactly three must be specified. If ``freq`` is omitted, the resulting\n",
      "    ``TimedeltaIndex`` will have ``periods`` linearly spaced elements between\n",
      "    ``start`` and ``end`` (closed on both sides).\n",
      "    \n",
      "    To learn more about the frequency strings, please see `this link\n",
      "    <https://pandas.pydata.org/pandas-docs/stable/user_guide/timeseries.html#offset-aliases>`__.\n",
      "    \n",
      "    Examples\n",
      "    --------\n",
      "    \n",
      "    >>> pd.timedelta_range(start='1 day', periods=4)\n",
      "    TimedeltaIndex(['1 days', '2 days', '3 days', '4 days'],\n",
      "                   dtype='timedelta64[ns]', freq='D')\n",
      "    \n",
      "    The ``closed`` parameter specifies which endpoint is included.  The default\n",
      "    behavior is to include both endpoints.\n",
      "    \n",
      "    >>> pd.timedelta_range(start='1 day', periods=4, closed='right')\n",
      "    TimedeltaIndex(['2 days', '3 days', '4 days'],\n",
      "                   dtype='timedelta64[ns]', freq='D')\n",
      "    \n",
      "    The ``freq`` parameter specifies the frequency of the TimedeltaIndex.\n",
      "    Only fixed frequencies can be passed, non-fixed frequencies such as\n",
      "    'M' (month end) will raise.\n",
      "    \n",
      "    >>> pd.timedelta_range(start='1 day', end='2 days', freq='6H')\n",
      "    TimedeltaIndex(['1 days 00:00:00', '1 days 06:00:00', '1 days 12:00:00',\n",
      "                    '1 days 18:00:00', '2 days 00:00:00'],\n",
      "                   dtype='timedelta64[ns]', freq='6H')\n",
      "    \n",
      "    Specify ``start``, ``end``, and ``periods``; the frequency is generated\n",
      "    automatically (linearly spaced).\n",
      "    \n",
      "    >>> pd.timedelta_range(start='1 day', end='5 days', periods=4)\n",
      "    TimedeltaIndex(['1 days 00:00:00', '2 days 08:00:00', '3 days 16:00:00',\n",
      "                '5 days 00:00:00'],\n",
      "               dtype='timedelta64[ns]', freq=None)\n",
      "\n"
     ]
    }
   ],
   "source": [
    "help(pd.timedelta_range)"
   ]
  },
  {
   "cell_type": "code",
   "execution_count": null,
   "metadata": {},
   "outputs": [],
   "source": []
  }
 ],
 "metadata": {
  "kernelspec": {
   "display_name": "Python 3",
   "language": "python",
   "name": "python3"
  },
  "language_info": {
   "codemirror_mode": {
    "name": "ipython",
    "version": 3
   },
   "file_extension": ".py",
   "mimetype": "text/x-python",
   "name": "python",
   "nbconvert_exporter": "python",
   "pygments_lexer": "ipython3",
   "version": "3.8.3"
  }
 },
 "nbformat": 4,
 "nbformat_minor": 4
}
